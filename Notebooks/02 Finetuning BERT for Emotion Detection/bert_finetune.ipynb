{
 "cells": [
  {
   "attachments": {},
   "cell_type": "markdown",
   "metadata": {},
   "source": [
    "## Finetuning BERT for Emotion Classification on an Emotionally Labelled Novel Dataset"
   ]
  },
  {
   "cell_type": "code",
   "execution_count": 3,
   "metadata": {},
   "outputs": [
    {
     "name": "stderr",
     "output_type": "stream",
     "text": [
      "c:\\Users\\SHB\\AppData\\Local\\Programs\\Python\\Python39\\lib\\site-packages\\requests\\__init__.py:102: RequestsDependencyWarning: urllib3 (1.26.9) or chardet (5.1.0)/charset_normalizer (2.0.12) doesn't match a supported version!\n",
      "  warnings.warn(\"urllib3 ({}) or chardet ({})/charset_normalizer ({}) doesn't match a supported \"\n"
     ]
    }
   ],
   "source": [
    "import pandas as pd\n",
    "from sklearn.model_selection import GroupShuffleSplit\n",
    "import numpy as np\n",
    "import ktrain"
   ]
  },
  {
   "attachments": {},
   "cell_type": "markdown",
   "metadata": {},
   "source": [
    "### Import, Split, and Encode Dataset"
   ]
  },
  {
   "attachments": {},
   "cell_type": "markdown",
   "metadata": {},
   "source": [
    "Import the Novel dataset, with labelled emotions"
   ]
  },
  {
   "cell_type": "code",
   "execution_count": 4,
   "metadata": {},
   "outputs": [],
   "source": [
    "df_full = pd.read_csv('./data/novel_sentences_emotionally_labelled.csv', encoding='utf-8')"
   ]
  },
  {
   "cell_type": "code",
   "execution_count": 5,
   "metadata": {},
   "outputs": [
    {
     "data": {
      "text/html": [
       "<div>\n",
       "<style scoped>\n",
       "    .dataframe tbody tr th:only-of-type {\n",
       "        vertical-align: middle;\n",
       "    }\n",
       "\n",
       "    .dataframe tbody tr th {\n",
       "        vertical-align: top;\n",
       "    }\n",
       "\n",
       "    .dataframe thead th {\n",
       "        text-align: right;\n",
       "    }\n",
       "</style>\n",
       "<table border=\"1\" class=\"dataframe\">\n",
       "  <thead>\n",
       "    <tr style=\"text-align: right;\">\n",
       "      <th></th>\n",
       "      <th>NovelId</th>\n",
       "      <th>SentenceId</th>\n",
       "      <th>Emotion</th>\n",
       "      <th>Text</th>\n",
       "    </tr>\n",
       "  </thead>\n",
       "  <tbody>\n",
       "    <tr>\n",
       "      <th>3887</th>\n",
       "      <td>56</td>\n",
       "      <td>85</td>\n",
       "      <td>Neutral</td>\n",
       "      <td>Then he went out and sent away the company, an...</td>\n",
       "    </tr>\n",
       "    <tr>\n",
       "      <th>7440</th>\n",
       "      <td>105</td>\n",
       "      <td>54</td>\n",
       "      <td>Neutral</td>\n",
       "      <td>The tree first recovered itself while being un...</td>\n",
       "    </tr>\n",
       "    <tr>\n",
       "      <th>14256</th>\n",
       "      <td>167</td>\n",
       "      <td>17</td>\n",
       "      <td>Neutral</td>\n",
       "      <td>He let himself down the hedge with a long thin...</td>\n",
       "    </tr>\n",
       "    <tr>\n",
       "      <th>7817</th>\n",
       "      <td>108</td>\n",
       "      <td>82</td>\n",
       "      <td>Neutral</td>\n",
       "      <td>I know not whether the clear, blue atmosphere ...</td>\n",
       "    </tr>\n",
       "    <tr>\n",
       "      <th>12279</th>\n",
       "      <td>147</td>\n",
       "      <td>6</td>\n",
       "      <td>Neutral</td>\n",
       "      <td>\"Stork, stork, fly away, Stand not on one leg,...</td>\n",
       "    </tr>\n",
       "    <tr>\n",
       "      <th>9362</th>\n",
       "      <td>120</td>\n",
       "      <td>61</td>\n",
       "      <td>Sadness</td>\n",
       "      <td>These were wonderful and happy moments for the...</td>\n",
       "    </tr>\n",
       "    <tr>\n",
       "      <th>3917</th>\n",
       "      <td>57</td>\n",
       "      <td>25</td>\n",
       "      <td>Surprise</td>\n",
       "      <td>It is my husband!\" she quickly hid the roast m...</td>\n",
       "    </tr>\n",
       "    <tr>\n",
       "      <th>11784</th>\n",
       "      <td>141</td>\n",
       "      <td>92</td>\n",
       "      <td>Sadness</td>\n",
       "      <td>\"It was sunshine here yesterday,\" said the lit...</td>\n",
       "    </tr>\n",
       "    <tr>\n",
       "      <th>7548</th>\n",
       "      <td>106</td>\n",
       "      <td>5</td>\n",
       "      <td>Happiness</td>\n",
       "      <td>How the sunshine cheers me, and how sweet and ...</td>\n",
       "    </tr>\n",
       "    <tr>\n",
       "      <th>7670</th>\n",
       "      <td>107</td>\n",
       "      <td>41</td>\n",
       "      <td>Neutral</td>\n",
       "      <td>The head of the house obtained a situation as ...</td>\n",
       "    </tr>\n",
       "  </tbody>\n",
       "</table>\n",
       "</div>"
      ],
      "text/plain": [
       "       NovelId  SentenceId    Emotion  \\\n",
       "3887        56          85    Neutral   \n",
       "7440       105          54    Neutral   \n",
       "14256      167          17    Neutral   \n",
       "7817       108          82    Neutral   \n",
       "12279      147           6    Neutral   \n",
       "9362       120          61    Sadness   \n",
       "3917        57          25   Surprise   \n",
       "11784      141          92    Sadness   \n",
       "7548       106           5  Happiness   \n",
       "7670       107          41    Neutral   \n",
       "\n",
       "                                                    Text  \n",
       "3887   Then he went out and sent away the company, an...  \n",
       "7440   The tree first recovered itself while being un...  \n",
       "14256  He let himself down the hedge with a long thin...  \n",
       "7817   I know not whether the clear, blue atmosphere ...  \n",
       "12279  \"Stork, stork, fly away, Stand not on one leg,...  \n",
       "9362   These were wonderful and happy moments for the...  \n",
       "3917   It is my husband!\" she quickly hid the roast m...  \n",
       "11784  \"It was sunshine here yesterday,\" said the lit...  \n",
       "7548   How the sunshine cheers me, and how sweet and ...  \n",
       "7670   The head of the house obtained a situation as ...  "
      ]
     },
     "execution_count": 5,
     "metadata": {},
     "output_type": "execute_result"
    }
   ],
   "source": [
    "df_full.sample(10)"
   ]
  },
  {
   "cell_type": "code",
   "execution_count": 6,
   "metadata": {},
   "outputs": [
    {
     "data": {
      "text/plain": [
       "15302"
      ]
     },
     "execution_count": 6,
     "metadata": {},
     "output_type": "execute_result"
    }
   ],
   "source": [
    "len(df_full)"
   ]
  },
  {
   "attachments": {},
   "cell_type": "markdown",
   "metadata": {},
   "source": [
    "Split dataset, maintaining novel sentences together, and maintaining the distribution of emotions across the splits"
   ]
  },
  {
   "cell_type": "code",
   "execution_count": 7,
   "metadata": {},
   "outputs": [],
   "source": [
    "splitter = GroupShuffleSplit(n_splits=2, random_state=12345)\n",
    "train_idx, test_idx = next(splitter.split(X=df_full, y=df_full[\"Emotion\"], groups=df_full[\"NovelId\"]))"
   ]
  },
  {
   "cell_type": "code",
   "execution_count": 8,
   "metadata": {},
   "outputs": [
    {
     "data": {
      "text/plain": [
       "(11300, 4002)"
      ]
     },
     "execution_count": 8,
     "metadata": {},
     "output_type": "execute_result"
    }
   ],
   "source": [
    "len(train_idx), len(test_idx)"
   ]
  },
  {
   "cell_type": "code",
   "execution_count": 9,
   "metadata": {},
   "outputs": [],
   "source": [
    "df_train = df_full.iloc[train_idx]\n",
    "df_test = df_full.iloc[test_idx]"
   ]
  },
  {
   "cell_type": "code",
   "execution_count": 10,
   "metadata": {},
   "outputs": [
    {
     "data": {
      "text/html": [
       "<div>\n",
       "<style scoped>\n",
       "    .dataframe tbody tr th:only-of-type {\n",
       "        vertical-align: middle;\n",
       "    }\n",
       "\n",
       "    .dataframe tbody tr th {\n",
       "        vertical-align: top;\n",
       "    }\n",
       "\n",
       "    .dataframe thead th {\n",
       "        text-align: right;\n",
       "    }\n",
       "</style>\n",
       "<table border=\"1\" class=\"dataframe\">\n",
       "  <thead>\n",
       "    <tr style=\"text-align: right;\">\n",
       "      <th></th>\n",
       "      <th>NovelId</th>\n",
       "      <th>SentenceId</th>\n",
       "      <th>Emotion</th>\n",
       "      <th>Text</th>\n",
       "    </tr>\n",
       "  </thead>\n",
       "  <tbody>\n",
       "    <tr>\n",
       "      <th>0</th>\n",
       "      <td>0</td>\n",
       "      <td>0</td>\n",
       "      <td>Neutral</td>\n",
       "      <td>In a certain mill lived an old miller who had ...</td>\n",
       "    </tr>\n",
       "    <tr>\n",
       "      <th>1</th>\n",
       "      <td>0</td>\n",
       "      <td>1</td>\n",
       "      <td>Neutral</td>\n",
       "      <td>As they had been with him several years, he on...</td>\n",
       "    </tr>\n",
       "    <tr>\n",
       "      <th>2</th>\n",
       "      <td>0</td>\n",
       "      <td>2</td>\n",
       "      <td>Disgust</td>\n",
       "      <td>The third of the boys was, however, the drudge...</td>\n",
       "    </tr>\n",
       "    <tr>\n",
       "      <th>3</th>\n",
       "      <td>0</td>\n",
       "      <td>3</td>\n",
       "      <td>Neutral</td>\n",
       "      <td>Then all three went out together, and when the...</td>\n",
       "    </tr>\n",
       "    <tr>\n",
       "      <th>4</th>\n",
       "      <td>0</td>\n",
       "      <td>4</td>\n",
       "      <td>Neutral</td>\n",
       "      <td>Hans, however, went with them, and when it was...</td>\n",
       "    </tr>\n",
       "    <tr>\n",
       "      <th>5</th>\n",
       "      <td>0</td>\n",
       "      <td>5</td>\n",
       "      <td>Neutral</td>\n",
       "      <td>The two sharp ones waited until Hans had falle...</td>\n",
       "    </tr>\n",
       "    <tr>\n",
       "      <th>6</th>\n",
       "      <td>0</td>\n",
       "      <td>6</td>\n",
       "      <td>Neutral</td>\n",
       "      <td>And they thought they had done a very clever t...</td>\n",
       "    </tr>\n",
       "    <tr>\n",
       "      <th>7</th>\n",
       "      <td>0</td>\n",
       "      <td>7</td>\n",
       "      <td>Neutral</td>\n",
       "      <td>When the sun arose, and Hans woke up, he was l...</td>\n",
       "    </tr>\n",
       "    <tr>\n",
       "      <th>8</th>\n",
       "      <td>0</td>\n",
       "      <td>8</td>\n",
       "      <td>Surprise</td>\n",
       "      <td>He looked around on every side and exclaimed, ...</td>\n",
       "    </tr>\n",
       "    <tr>\n",
       "      <th>9</th>\n",
       "      <td>0</td>\n",
       "      <td>9</td>\n",
       "      <td>Sadness</td>\n",
       "      <td>Then he got up and clambered out of the cave, ...</td>\n",
       "    </tr>\n",
       "  </tbody>\n",
       "</table>\n",
       "</div>"
      ],
      "text/plain": [
       "   NovelId  SentenceId   Emotion  \\\n",
       "0        0           0   Neutral   \n",
       "1        0           1   Neutral   \n",
       "2        0           2   Disgust   \n",
       "3        0           3   Neutral   \n",
       "4        0           4   Neutral   \n",
       "5        0           5   Neutral   \n",
       "6        0           6   Neutral   \n",
       "7        0           7   Neutral   \n",
       "8        0           8  Surprise   \n",
       "9        0           9   Sadness   \n",
       "\n",
       "                                                Text  \n",
       "0  In a certain mill lived an old miller who had ...  \n",
       "1  As they had been with him several years, he on...  \n",
       "2  The third of the boys was, however, the drudge...  \n",
       "3  Then all three went out together, and when the...  \n",
       "4  Hans, however, went with them, and when it was...  \n",
       "5  The two sharp ones waited until Hans had falle...  \n",
       "6  And they thought they had done a very clever t...  \n",
       "7  When the sun arose, and Hans woke up, he was l...  \n",
       "8  He looked around on every side and exclaimed, ...  \n",
       "9  Then he got up and clambered out of the cave, ...  "
      ]
     },
     "execution_count": 10,
     "metadata": {},
     "output_type": "execute_result"
    }
   ],
   "source": [
    "df_train.head(10)"
   ]
  },
  {
   "cell_type": "code",
   "execution_count": 11,
   "metadata": {},
   "outputs": [
    {
     "data": {
      "text/html": [
       "<div>\n",
       "<style scoped>\n",
       "    .dataframe tbody tr th:only-of-type {\n",
       "        vertical-align: middle;\n",
       "    }\n",
       "\n",
       "    .dataframe tbody tr th {\n",
       "        vertical-align: top;\n",
       "    }\n",
       "\n",
       "    .dataframe thead th {\n",
       "        text-align: right;\n",
       "    }\n",
       "</style>\n",
       "<table border=\"1\" class=\"dataframe\">\n",
       "  <thead>\n",
       "    <tr style=\"text-align: right;\">\n",
       "      <th></th>\n",
       "      <th>NovelId</th>\n",
       "      <th>SentenceId</th>\n",
       "      <th>Emotion</th>\n",
       "      <th>Text</th>\n",
       "    </tr>\n",
       "  </thead>\n",
       "  <tbody>\n",
       "    <tr>\n",
       "      <th>113</th>\n",
       "      <td>2</td>\n",
       "      <td>0</td>\n",
       "      <td>Sadness</td>\n",
       "      <td>Little brother took his little sister by the h...</td>\n",
       "    </tr>\n",
       "    <tr>\n",
       "      <th>114</th>\n",
       "      <td>2</td>\n",
       "      <td>1</td>\n",
       "      <td>Sadness</td>\n",
       "      <td>Our meals are the hard crusts of bread that ar...</td>\n",
       "    </tr>\n",
       "    <tr>\n",
       "      <th>115</th>\n",
       "      <td>2</td>\n",
       "      <td>2</td>\n",
       "      <td>Sadness</td>\n",
       "      <td>May Heaven pity us.</td>\n",
       "    </tr>\n",
       "    <tr>\n",
       "      <th>116</th>\n",
       "      <td>2</td>\n",
       "      <td>3</td>\n",
       "      <td>Sadness</td>\n",
       "      <td>If our mother only knew!</td>\n",
       "    </tr>\n",
       "    <tr>\n",
       "      <th>117</th>\n",
       "      <td>2</td>\n",
       "      <td>4</td>\n",
       "      <td>Neutral</td>\n",
       "      <td>Come, we will go forth together into the wide ...</td>\n",
       "    </tr>\n",
       "    <tr>\n",
       "      <th>118</th>\n",
       "      <td>2</td>\n",
       "      <td>5</td>\n",
       "      <td>Sadness</td>\n",
       "      <td>They walked the whole day over meadows, fields...</td>\n",
       "    </tr>\n",
       "    <tr>\n",
       "      <th>119</th>\n",
       "      <td>2</td>\n",
       "      <td>6</td>\n",
       "      <td>Sadness</td>\n",
       "      <td>In the evening they came to a large forest, an...</td>\n",
       "    </tr>\n",
       "    <tr>\n",
       "      <th>120</th>\n",
       "      <td>2</td>\n",
       "      <td>7</td>\n",
       "      <td>Neutral</td>\n",
       "      <td>The next day when they awoke, the sun was alre...</td>\n",
       "    </tr>\n",
       "    <tr>\n",
       "      <th>121</th>\n",
       "      <td>2</td>\n",
       "      <td>8</td>\n",
       "      <td>Neutral</td>\n",
       "      <td>Then the brother said, \"Sister, I am thirsty; ...</td>\n",
       "    </tr>\n",
       "    <tr>\n",
       "      <th>122</th>\n",
       "      <td>2</td>\n",
       "      <td>9</td>\n",
       "      <td>Neutral</td>\n",
       "      <td>The brother got up and took the little sister ...</td>\n",
       "    </tr>\n",
       "  </tbody>\n",
       "</table>\n",
       "</div>"
      ],
      "text/plain": [
       "     NovelId  SentenceId  Emotion  \\\n",
       "113        2           0  Sadness   \n",
       "114        2           1  Sadness   \n",
       "115        2           2  Sadness   \n",
       "116        2           3  Sadness   \n",
       "117        2           4  Neutral   \n",
       "118        2           5  Sadness   \n",
       "119        2           6  Sadness   \n",
       "120        2           7  Neutral   \n",
       "121        2           8  Neutral   \n",
       "122        2           9  Neutral   \n",
       "\n",
       "                                                  Text  \n",
       "113  Little brother took his little sister by the h...  \n",
       "114  Our meals are the hard crusts of bread that ar...  \n",
       "115                                May Heaven pity us.  \n",
       "116                           If our mother only knew!  \n",
       "117  Come, we will go forth together into the wide ...  \n",
       "118  They walked the whole day over meadows, fields...  \n",
       "119  In the evening they came to a large forest, an...  \n",
       "120  The next day when they awoke, the sun was alre...  \n",
       "121  Then the brother said, \"Sister, I am thirsty; ...  \n",
       "122  The brother got up and took the little sister ...  "
      ]
     },
     "execution_count": 11,
     "metadata": {},
     "output_type": "execute_result"
    }
   ],
   "source": [
    "df_test.head(10)"
   ]
  },
  {
   "attachments": {},
   "cell_type": "markdown",
   "metadata": {},
   "source": [
    "Confirmed the split happened across Novel IDs"
   ]
  },
  {
   "cell_type": "code",
   "execution_count": 12,
   "metadata": {},
   "outputs": [
    {
     "data": {
      "text/plain": [
       "array([  0,   1,   3,   4,   5,   6,   7,   8,   9,  11,  12,  13,  14,\n",
       "        15,  18,  19,  20,  21,  22,  23,  25,  26,  27,  28,  29,  30,\n",
       "        31,  32,  34,  36,  37,  38,  39,  41,  43,  44,  45,  46,  47,\n",
       "        49,  50,  51,  52,  53,  54,  56,  57,  58,  59,  60,  61,  62,\n",
       "        63,  64,  65,  66,  69,  70,  71,  72,  73,  74,  75,  76,  77,\n",
       "        79,  80,  81,  82,  83,  84,  85,  87,  88,  90,  91,  93,  94,\n",
       "        96,  97,  98,  99, 101, 102, 103, 105, 106, 107, 108, 109, 110,\n",
       "       112, 113, 114, 115, 116, 117, 118, 119, 123, 124, 125, 126, 127,\n",
       "       129, 130, 131, 132, 133, 134, 135, 137, 138, 139, 142, 143, 144,\n",
       "       145, 148, 149, 152, 153, 154, 155, 156, 157, 159, 160, 161, 163,\n",
       "       164, 166, 167, 168, 169, 171, 172, 173, 174, 175], dtype=int64)"
      ]
     },
     "execution_count": 12,
     "metadata": {},
     "output_type": "execute_result"
    }
   ],
   "source": [
    "df_train[\"NovelId\"].unique()"
   ]
  },
  {
   "cell_type": "code",
   "execution_count": 13,
   "metadata": {},
   "outputs": [
    {
     "data": {
      "text/plain": [
       "array([  2,  10,  16,  17,  24,  33,  35,  40,  42,  48,  55,  67,  68,\n",
       "        78,  86,  89,  92,  95, 100, 104, 111, 120, 121, 122, 128, 136,\n",
       "       140, 141, 146, 147, 150, 151, 158, 162, 165, 170], dtype=int64)"
      ]
     },
     "execution_count": 13,
     "metadata": {},
     "output_type": "execute_result"
    }
   ],
   "source": [
    "df_test[\"NovelId\"].unique()"
   ]
  },
  {
   "attachments": {},
   "cell_type": "markdown",
   "metadata": {},
   "source": [
    "Confirmed distribution of Emotions across train and test splits are more or less similar"
   ]
  },
  {
   "cell_type": "code",
   "execution_count": 14,
   "metadata": {},
   "outputs": [
    {
     "data": {
      "text/plain": [
       "Neutral      60.362832\n",
       "Happiness    12.752212\n",
       "Sadness       6.752212\n",
       "Surprise      6.424779\n",
       "Fear          5.371681\n",
       "Anger         5.194690\n",
       "Disgust       3.141593\n",
       "Name: Emotion, dtype: float64"
      ]
     },
     "execution_count": 14,
     "metadata": {},
     "output_type": "execute_result"
    }
   ],
   "source": [
    "100*df_train[\"Emotion\"].value_counts()/len(df_train)"
   ]
  },
  {
   "cell_type": "code",
   "execution_count": 15,
   "metadata": {},
   "outputs": [
    {
     "data": {
      "text/plain": [
       "Neutral      64.317841\n",
       "Happiness    11.044478\n",
       "Sadness       5.622189\n",
       "Surprise      5.472264\n",
       "Anger         5.347326\n",
       "Fear          4.797601\n",
       "Disgust       3.398301\n",
       "Name: Emotion, dtype: float64"
      ]
     },
     "execution_count": 15,
     "metadata": {},
     "output_type": "execute_result"
    }
   ],
   "source": [
    "100*df_test[\"Emotion\"].value_counts()/len(df_test)"
   ]
  },
  {
   "attachments": {},
   "cell_type": "markdown",
   "metadata": {},
   "source": [
    "Extract X and y"
   ]
  },
  {
   "cell_type": "code",
   "execution_count": 16,
   "metadata": {},
   "outputs": [],
   "source": [
    "X_train = df_train[\"Text\"].tolist()\n",
    "X_test = df_test[\"Text\"].tolist()\n",
    "y_train = df_train[\"Emotion\"].tolist()\n",
    "y_test = df_test[\"Emotion\"].tolist()"
   ]
  },
  {
   "cell_type": "code",
   "execution_count": 17,
   "metadata": {},
   "outputs": [],
   "source": [
    "class_names = df_full[\"Emotion\"].unique().tolist()"
   ]
  },
  {
   "cell_type": "code",
   "execution_count": 18,
   "metadata": {},
   "outputs": [],
   "source": [
    "encoding = {cn: i for i, cn in enumerate(class_names)}"
   ]
  },
  {
   "cell_type": "code",
   "execution_count": 19,
   "metadata": {},
   "outputs": [
    {
     "data": {
      "text/plain": [
       "{'Neutral': 0,\n",
       " 'Disgust': 1,\n",
       " 'Surprise': 2,\n",
       " 'Sadness': 3,\n",
       " 'Happiness': 4,\n",
       " 'Anger': 5,\n",
       " 'Fear': 6}"
      ]
     },
     "execution_count": 19,
     "metadata": {},
     "output_type": "execute_result"
    }
   ],
   "source": [
    "encoding"
   ]
  },
  {
   "cell_type": "code",
   "execution_count": 20,
   "metadata": {},
   "outputs": [],
   "source": [
    "y_train = [encoding[lbl] for lbl in y_train]\n",
    "y_test = [encoding[lbl] for lbl in y_test]"
   ]
  },
  {
   "cell_type": "code",
   "execution_count": 21,
   "metadata": {},
   "outputs": [
    {
     "data": {
      "text/plain": [
       "[0, 0, 1, 0, 0, 0, 0, 0, 2, 3]"
      ]
     },
     "execution_count": 21,
     "metadata": {},
     "output_type": "execute_result"
    }
   ],
   "source": [
    "y_train[:10]"
   ]
  },
  {
   "attachments": {},
   "cell_type": "markdown",
   "metadata": {},
   "source": [
    "### Preprocessing Data for BERT"
   ]
  },
  {
   "cell_type": "code",
   "execution_count": 22,
   "metadata": {},
   "outputs": [
    {
     "name": "stdout",
     "output_type": "stream",
     "text": [
      "task: text classification\n"
     ]
    }
   ],
   "source": [
    "(X_train_pp,  y_train_pp), (X_test_pp, y_test_pp), preproc = ktrain.text.texts_from_array(x_train=X_train, y_train=y_train, x_test=X_test, y_test=y_test,\n",
    "                                                                                          class_names=class_names, preprocess_mode='bert', maxlen=100)"
   ]
  },
  {
   "attachments": {},
   "cell_type": "markdown",
   "metadata": {},
   "source": [
    "### Training and Validations"
   ]
  },
  {
   "cell_type": "code",
   "execution_count": 23,
   "metadata": {},
   "outputs": [
    {
     "name": "stdout",
     "output_type": "stream",
     "text": [
      "Is Multi-Label? False\n",
      "maxlen is 100\n",
      "done.\n"
     ]
    }
   ],
   "source": [
    "model = ktrain.text.text_classifier('bert', train_data=(X_train_pp, y_train_pp), preproc=preproc)"
   ]
  },
  {
   "cell_type": "code",
   "execution_count": 24,
   "metadata": {},
   "outputs": [],
   "source": [
    "learner = ktrain.get_learner(model, train_data=(X_train_pp, y_train_pp), val_data=(X_test_pp, y_test_pp), batch_size=32) # default batch size = 32"
   ]
  },
  {
   "cell_type": "code",
   "execution_count": 25,
   "metadata": {},
   "outputs": [],
   "source": [
    "#learner.lr_find() # simulates training to identify a good learning rate\n",
    "#learner.lr_plot()"
   ]
  },
  {
   "cell_type": "code",
   "execution_count": 26,
   "metadata": {},
   "outputs": [],
   "source": [
    "learner.freeze()"
   ]
  },
  {
   "cell_type": "code",
   "execution_count": null,
   "metadata": {},
   "outputs": [],
   "source": [
    "learner.fit_onecycle(1e-5, epochs=3)"
   ]
  },
  {
   "cell_type": "code",
   "execution_count": null,
   "metadata": {},
   "outputs": [],
   "source": []
  }
 ],
 "metadata": {
  "kernelspec": {
   "display_name": "Python 3",
   "language": "python",
   "name": "python3"
  },
  "language_info": {
   "codemirror_mode": {
    "name": "ipython",
    "version": 3
   },
   "file_extension": ".py",
   "mimetype": "text/x-python",
   "name": "python",
   "nbconvert_exporter": "python",
   "pygments_lexer": "ipython3",
   "version": "3.9.13"
  },
  "orig_nbformat": 4
 },
 "nbformat": 4,
 "nbformat_minor": 2
}
