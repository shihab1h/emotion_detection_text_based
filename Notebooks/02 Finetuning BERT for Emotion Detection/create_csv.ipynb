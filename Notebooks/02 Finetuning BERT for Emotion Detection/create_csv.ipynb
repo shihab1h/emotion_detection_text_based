{
 "cells": [
  {
   "cell_type": "code",
   "execution_count": 10,
   "metadata": {},
   "outputs": [],
   "source": [
    "import pandas as pd\n",
    "import re"
   ]
  },
  {
   "cell_type": "code",
   "execution_count": 30,
   "metadata": {},
   "outputs": [],
   "source": [
    "import os\n",
    "authors = [\"Grimms\",\"HCAndersen\",\"Potter\"]\n",
    "columns = ['index1','index2','emotion1','emotion2','mood1','mood2','text','emotion']\n",
    "pattern = r'(\\S+):(\\S+)\\s(\\S+):(\\S+)\\s(\\S+):(\\S+)\\s(.*)'\n",
    "data = []\n",
    "for author in authors:\n",
    "    path = f\"./data/downloaded/{author}/emmood/\"\n",
    "    for file in os.listdir(path):\n",
    "        filepath = os.path.join(path, file)\n",
    "        with open(filepath) as f:\n",
    "            lines = f.readlines()\n",
    "            \n",
    "        for line in lines:\n",
    "            matches = re.match(pattern, line)\n",
    "\n",
    "            # Extract the matched groups\n",
    "            column1 = matches.group(1)\n",
    "            column2 = matches.group(2)\n",
    "            column3 = matches.group(3)\n",
    "            column4 = matches.group(4)\n",
    "            column5 = matches.group(5)\n",
    "            column6 = matches.group(6)\n",
    "            column7 = matches.group(7)\n",
    "\n",
    "            if column3 != 'N':\n",
    "                emotion = column3\n",
    "            elif column3 == 'N' and column4 != 'N':\n",
    "                emotion = column4\n",
    "            else:\n",
    "                emotion = 'N'\n",
    "            data.append([column1,column2,column3,column4,column5,column6,column7,emotion])\n",
    "df = pd.DataFrame(data,columns=columns)"
   ]
  },
  {
   "cell_type": "code",
   "execution_count": 32,
   "metadata": {},
   "outputs": [],
   "source": [
    "df.to_csv(\"./data/full_data.csv\", index=False)"
   ]
  }
 ],
 "metadata": {
  "kernelspec": {
   "display_name": "emotion_detection_text_based-fIP6KARA",
   "language": "python",
   "name": "python3"
  },
  "language_info": {
   "codemirror_mode": {
    "name": "ipython",
    "version": 3
   },
   "file_extension": ".py",
   "mimetype": "text/x-python",
   "name": "python",
   "nbconvert_exporter": "python",
   "pygments_lexer": "ipython3",
   "version": "3.9.13"
  },
  "orig_nbformat": 4
 },
 "nbformat": 4,
 "nbformat_minor": 2
}
