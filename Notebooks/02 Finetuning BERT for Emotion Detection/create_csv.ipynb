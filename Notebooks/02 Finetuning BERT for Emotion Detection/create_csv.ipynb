{
 "cells": [
  {
   "cell_type": "code",
   "execution_count": 1,
   "metadata": {},
   "outputs": [],
   "source": [
    "import pandas as pd\n",
    "import re"
   ]
  },
  {
   "cell_type": "code",
   "execution_count": 2,
   "metadata": {},
   "outputs": [],
   "source": [
    "import os\n",
    "authors = [\"Grimms\",\"HCAndersen\",\"Potter\"]\n",
    "#columns = ['Emotion', 'Text', 'NovelId','SentenceId','emoA','emoB','moodA','moodB',] #2 persons labelled emotions & mood, used interchangeably in this project\n",
    "columns = ['NovelId','SentenceId', 'Emotion', 'Text'] \n",
    "pattern = r'(\\S+):(\\S+)\\s(\\S+):(\\S+)\\s(\\S+):(\\S+)\\s(.*)'\n",
    "data = []\n",
    "novel_map = []\n",
    "NovelId = -1\n",
    "for author in authors:\n",
    "    path = f\"./data/downloaded/{author}/emmood/\"\n",
    "    for file in os.listdir(path):\n",
    "        NovelId+=1\n",
    "        filepath = os.path.join(path, file)\n",
    "        novel_map.append(file.split('.')[0])\n",
    "        with open(filepath) as f:\n",
    "            lines = f.readlines()\n",
    "            \n",
    "        for line in lines:\n",
    "            matches = re.match(pattern, line)\n",
    "\n",
    "            # Extract the matched groups\n",
    "            column1 = matches.group(1) # sentence id\n",
    "            #column2 = matches.group(2)\n",
    "            column3 = matches.group(3) # emotion labelled by person A\n",
    "            column4 = matches.group(4) # emotion labelled by person B\n",
    "            #column5 = matches.group(5) # mood labelled by person \n",
    "            #column5 = matches.group(6) # mood labelled by person \n",
    "            Text = matches.group(7) #sentence\n",
    "\n",
    "            SentenceId = column1\n",
    "\n",
    "            if column3 != 'N': #emoA\n",
    "                Emotion = column3\n",
    "            elif column3 == 'N' and column4 != 'N': #emoA\n",
    "                Emotion = column4\n",
    "            else:\n",
    "                Emotion = 'N'\n",
    "            \n",
    "            data.append([NovelId, SentenceId, Emotion, Text])\n",
    "\n",
    "df = pd.DataFrame(data,columns=columns)\n",
    "df_novel_map = pd.Series(novel_map, name=\"NovelName\")"
   ]
  },
  {
   "cell_type": "code",
   "execution_count": 3,
   "metadata": {},
   "outputs": [
    {
     "data": {
      "text/plain": [
       "N      9395\n",
       "H      1883\n",
       "Sa      988\n",
       "A       801\n",
       "F       799\n",
       "Su-     582\n",
       "D       491\n",
       "Su+     363\n",
       "Name: Emotion, dtype: int64"
      ]
     },
     "execution_count": 3,
     "metadata": {},
     "output_type": "execute_result"
    }
   ],
   "source": [
    "df[\"Emotion\"].value_counts()"
   ]
  },
  {
   "cell_type": "code",
   "execution_count": 4,
   "metadata": {},
   "outputs": [],
   "source": [
    "emo_dict = {'N': \"Neutral\",\n",
    "            'H': \"Happiness\", \n",
    "            'Sa': \"Sadness\",\n",
    "            'A': \"Anger\",\n",
    "            'F': \"Fear\",\n",
    "            'Su-': \"Surprise\",\n",
    "            'Su+': \"Surprise\", # both surprise categories (positive & negative are combined)\n",
    "            'D': \"Disgust\"}"
   ]
  },
  {
   "cell_type": "code",
   "execution_count": 5,
   "metadata": {},
   "outputs": [],
   "source": [
    "df.replace({\"Emotion\": emo_dict}, inplace=True)"
   ]
  },
  {
   "cell_type": "code",
   "execution_count": 6,
   "metadata": {},
   "outputs": [
    {
     "data": {
      "text/plain": [
       "0    106_the_poor_millers_boy_and_the_cat\n",
       "1           114_the_cunning_little_tailor\n",
       "2     11_little_brother_and_little_sister\n",
       "3     13_the_three_little_men_in_the_wood\n",
       "4                    163_the_glass_coffin\n",
       "Name: NovelName, dtype: object"
      ]
     },
     "execution_count": 6,
     "metadata": {},
     "output_type": "execute_result"
    }
   ],
   "source": [
    "df_novel_map.head()"
   ]
  },
  {
   "cell_type": "code",
   "execution_count": 8,
   "metadata": {},
   "outputs": [],
   "source": [
    "df.to_csv(\"./data/novel_sentences_emotionally_labelled.csv\", index=False)\n",
    "df_novel_map.to_csv(\"./data/novel_indices.csv\", index=True, index_label=\"NovelId\")"
   ]
  }
 ],
 "metadata": {
  "kernelspec": {
   "display_name": "emotion_detection_text_based-fIP6KARA",
   "language": "python",
   "name": "python3"
  },
  "language_info": {
   "codemirror_mode": {
    "name": "ipython",
    "version": 3
   },
   "file_extension": ".py",
   "mimetype": "text/x-python",
   "name": "python",
   "nbconvert_exporter": "python",
   "pygments_lexer": "ipython3",
   "version": "3.9.13"
  },
  "orig_nbformat": 4
 },
 "nbformat": 4,
 "nbformat_minor": 2
}
